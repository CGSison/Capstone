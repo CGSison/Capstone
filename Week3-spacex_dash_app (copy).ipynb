{
  "metadata": {
    "language_info": {
      "codemirror_mode": {
        "name": "python",
        "version": 3
      },
      "file_extension": ".py",
      "mimetype": "text/x-python",
      "name": "python",
      "nbconvert_exporter": "python",
      "pygments_lexer": "ipython3",
      "version": "3.8"
    },
    "kernelspec": {
      "name": "python",
      "display_name": "Python (Pyodide)",
      "language": "python"
    }
  },
  "nbformat_minor": 4,
  "nbformat": 4,
  "cells": [
    {
      "cell_type": "code",
      "source": "# Import required libraries\nimport pandas as pd\nimport dash\nimport dash_html_components as html\nimport dash_core_components as dcc\nfrom dash.dependencies import Input, Output\nimport plotly.express as px\n\n# Read the airline data into pandas dataframe\nspacex_df = pd.read_csv(\"spacex_launch_dash.csv\")\nmax_payload = spacex_df['Payload Mass (kg)'].max()\nmin_payload = spacex_df['Payload Mass (kg)'].min()\n\n\n\n# Task 0 Launch Site Drop-down option\nls=spacex_df['Launch Site'].unique()\nls=pd.DataFrame(ls,columns=[\"Launch Site\"])\noptions_1=[]\nfor i in range(len(ls)):\n          options_1.append({'label':ls.iloc[i]['Launch Site'],'value':ls.iloc[i]['Launch Site']})\noptions_2=[{'label': 'All', 'value': 'All'}]\noptions_2.extend(options_1)\n\n\n\n# Create a dash application\napp = dash.Dash(__name__)\n\n\n# Create an app layout\napp.layout = html.Div(children=[html.H1('SpaceX Launch Records Dashboard',\n                                        style={'textAlign': 'center', 'color': '#503D36',\n                                               'font-size': 40}),\n                                # TASK 1: Add a dropdown list to enable Launch Site selection\n                                # The default select value is for ALL sites\n                                # dcc.Dropdown(id='site-dropdown',...)\n                                dcc.Dropdown(id='site-dropdown',\n                                             options=options_2,\n                                             value='ALL',\n                                             placeholder=\"Select a Launch Site here\",\n                                             searchable=True),\n                                html.Br(),\n\n                                # TASK 2: Add a pie chart to show the total successful launches count for all sites\n                                # If a specific launch site was selected, show the Success vs. Failed counts for the site\n                                html.Div(dcc.Graph(id='success-pie-chart')),\n                                html.Br(),\n\n                                html.P(\"Payload range (Kg):\"),\n                                # TASK 3: Add a slider to select payload range\n                                #dcc.RangeSlider(id='payload-slider',...)\n                                dcc.RangeSlider(id='payload-slider',\n                                                min=0, max=10000, step=1000,\n                                                marks={0: '0', 10000: '10000'},\n                                                value=[min_payload, max_payload]),\n                                # TASK 4: Add a scatter chart to show the correlation between payload and launch success\n                                html.Div(dcc.Graph(id='success-payload-scatter-chart')),\n                                ])\n\n# TASK 2:\n# Add a callback function for `site-dropdown` as input, `success-pie-chart` as output\n# Function decorator to specify function input and output\n@app.callback(Output(component_id='success-pie-chart', component_property='figure'),\n              Input(component_id='site-dropdown', component_property='value'))\ndef get_pie_chart(entered_site):\n    if entered_site == 'All':\n        fig = px.pie(spacex_df, values='class', \n        names='Launch Site', \n        title='Total Success Launches by Site')\n        return fig\n    else:\n        filtered_df = spacex_df[spacex_df['Launch Site']== entered_site]\n        class_count= [1]*len(filtered_df)\n        filtered_df['class_count']=class_count\n        # return the outcomes piechart for a selected site\n        fig = px.pie(filtered_df, values='class_count', \n        names='class', \n        title='Share of Successful and Failed Launches of Launch Site {}'.format(entered_site))\n        return fig\n\n\n# TASK 4:\n# Add a callback function for `site-dropdown` and `payload-slider` as inputs, `success-payload-scatter-chart` as output\n@app.callback(Output(component_id='success-payload-scatter-chart', component_property='figure'),\n              [Input(component_id='site-dropdown', component_property='value'),\n               Input(component_id='payload-slider', component_property='value')]\n              )\ndef get_scatter_chart(entered_site,slider_range):\n    \n    if entered_site == 'All':\n        low, high = slider_range\n        mask = (spacex_df['Payload Mass (kg)'] > low) & (spacex_df['Payload Mass (kg)'] < high)\n        fig = px.scatter(spacex_df[mask], x=\"Payload Mass (kg)\", \n        y=\"class\",\n        color=\"Booster Version Category\",\n        title=\"Payload Mass (kg) vs Class for All Launch Site\")\n        return fig\n    else:\n        filtered_df = spacex_df[spacex_df['Launch Site']== entered_site]\n        low, high = slider_range\n        mask = (filtered_df['Payload Mass (kg)'] > low) & (filtered_df['Payload Mass (kg)'] < high)\n        fig = px.scatter(filtered_df[mask], x=\"Payload Mass (kg)\", \n        y=\"class\", \n        color=\"Booster Version Category\",\n        title=\"Payload Mass (kg) vs Class for Launch Site {}\".format(entered_site))\n        return fig\n\n\n\n\n\n\n# Run the app\nif __name__ == '__main__':\n    app.run_server()\n",
      "metadata": {},
      "execution_count": null,
      "outputs": []
    }
  ]
}